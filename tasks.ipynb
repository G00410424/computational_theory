{
 "cells": [
  {
   "cell_type": "markdown",
   "metadata": {},
   "source": [
    "# Tasks\n",
    "This notebook contains the solutions for the Computational Theory tasks"
   ]
  },
  {
   "cell_type": "markdown",
   "metadata": {},
   "source": []
  },
  {
   "cell_type": "markdown",
   "metadata": {},
   "source": [
    "# Task 1: Binary Representations\n",
    "\n",
    "In this task, we implement four functions based on the FIPS 180-4 Secure Hash Standard:\n",
    "- `rotl(x, n=1)`: Rotate bits of a 32-bit unsigned integer to the left by n positions.\n",
    "- `rotr(x, n=1)`: Rotate bits of a 32-bit unsigned integer to the right by n positions.\n",
    "- `ch(x, y, z)`: Choose bits from `y` when the corresponding bit in `x` is 1; otherwise, choose from `z`.\n",
    "- `maj(x, y, z)`: Compute the majority vote for each bit position (i.e., output a 1 if at least two of the three inputs have a 1 in that bit).\n",
    "\n",
    "**Reference:** FIPS 180-4, Secure Hash Standard (SHS)"
   ]
  },
  {
   "cell_type": "code",
   "execution_count": 153,
   "metadata": {},
   "outputs": [],
   "source": [
    "# Define the function to rotate left (rotl) for a 32-bit unsigned integer.\n",
    "def rotl(x, n=1):\n",
    "    \"\"\"\n",
    "    Rotate the 32-bit unsigned integer x to the left by n bits.\n",
    "    \n",
    "    Parameters:\n",
    "        x (int): 32-bit unsigned integer.\n",
    "        n (int): Number of positions to rotate (default is 1).\n",
    "    \n",
    "    Returns:\n",
    "        int: The result of rotating x to the left by n positions.\n",
    "    \"\"\"\n",
    "    # Shift left by n, shift right by (32 - n), and combine with bitwise OR.\n",
    "    # Use bitwise AND with 0xFFFFFFFF to ensure the result stays within 32 bits.\n",
    "    return ((x << n) | (x >> (32 - n))) & 0xFFFFFFFF\n",
    "\n",
    "# Define the function to rotate right (rotr) for a 32-bit unsigned integer.\n",
    "def rotr(x, n=1):\n",
    "    \"\"\"\n",
    "    Rotate the 32-bit unsigned integer x to the right by n bits.\n",
    "    \n",
    "    Parameters:\n",
    "        x (int): 32-bit unsigned integer.\n",
    "        n (int): Number of positions to rotate (default is 1).\n",
    "    \n",
    "    Returns:\n",
    "        int: The result of rotating x to the right by n positions.\n",
    "    \"\"\"\n",
    "    return ((x >> n) | (x << (32 - n))) & 0xFFFFFFFF\n",
    "\n",
    "# Define the choice function (ch) that selects bits from y or z based on x.\n",
    "def ch(x, y, z):\n",
    "    \"\"\"\n",
    "    Choose bits from y or z based on the bits in x.\n",
    "    \n",
    "    For each bit position, if x has a 1, take the corresponding bit from y;\n",
    "    otherwise, take the bit from z.\n",
    "    \n",
    "    Parameters:\n",
    "        x, y, z (int): 32-bit unsigned integers.\n",
    "    \n",
    "    Returns:\n",
    "        int: The result after selecting bits.\n",
    "    \"\"\"\n",
    "    # (x AND y) gives bits from y where x is 1.\n",
    "    # (~x AND z) gives bits from z where x is 0.\n",
    "    return (x & y) ^ ((~x) & z)  # XOR here works like OR for non-overlapping bits\n",
    "\n",
    "# Define the majority function (maj) which outputs the majority vote of bits.\n",
    "def maj(x, y, z):\n",
    "    \"\"\"\n",
    "    Compute the majority of the bits in x, y, and z.\n",
    "    \n",
    "    For each bit position, the output bit is 1 if at least two of the inputs\n",
    "    have a 1 in that position.\n",
    "    \n",
    "    Parameters:\n",
    "        x, y, z (int): 32-bit unsigned integers.\n",
    "    \n",
    "    Returns:\n",
    "        int: The result of the majority vote.\n",
    "    \"\"\"\n",
    "    # Using the formula: (x AND y) OR (x AND z) OR (y AND z)\n",
    "    return (x & y) | (x & z) | (y & z)"
   ]
  },
  {
   "cell_type": "markdown",
   "metadata": {},
   "source": [
    "## Testing the Functions\n",
    "\n",
    "In the following cell, we will demonstrate example usages and simple tests for each of the functions:\n",
    "- We'll provide sample inputs to check that our functions perform the expected bit rotations.\n",
    "- We will test `ch` and `maj` to confirm they return the correct values based on binary logic.\n",
    "- Each example is accompanied by comments to explain what is being tested.\n"
   ]
  },
  {
   "cell_type": "code",
   "execution_count": 154,
   "metadata": {},
   "outputs": [
    {
     "name": "stdout",
     "output_type": "stream",
     "text": [
      "rotl(0x12345678, 4): 0x23456781\n",
      "rotr(0x12345678, 4): 0x81234567\n",
      "ch(a, b, c): 0b10101010101010101010101010101010\n",
      "maj(x, y, z): 0b11101000111010001110100011101000\n"
     ]
    }
   ],
   "source": [
    "# Test examples for the functions\n",
    "\n",
    "# Example for rotl:\n",
    "x = 0x12345678  # Example 32-bit number in hexadecimal\n",
    "rotated_left = rotl(x, 4)\n",
    "print(\"rotl(0x12345678, 4):\", hex(rotated_left))\n",
    "# Expected: The bits should be rotated 4 positions to the left\n",
    "\n",
    "# Example for rotr:\n",
    "rotated_right = rotr(x, 4)\n",
    "print(\"rotr(0x12345678, 4):\", hex(rotated_right))\n",
    "# Expected: The bits should be rotated 4 positions to the right\n",
    "\n",
    "# Example for ch:\n",
    "# Let's choose arbitrary 32-bit numbers for testing.\n",
    "a = 0b10101010101010101010101010101010  # Pattern: alternating bits\n",
    "b = 0xFFFFFFFF  # All bits 1\n",
    "c = 0x00000000  # All bits 0\n",
    "chosen = ch(a, b, c)\n",
    "print(\"ch(a, b, c):\", bin(chosen))\n",
    "# Expected: For each bit position, if bit in a is 1, bit from b (1) is chosen; else, bit from c (0)\n",
    "\n",
    "# Example for maj:\n",
    "# Using three arbitrary numbers.\n",
    "x_val = 0b11001100110011001100110011001100\n",
    "y_val = 0b10101010101010101010101010101010\n",
    "z_val = 0b11110000111100001111000011110000\n",
    "majority = maj(x_val, y_val, z_val)\n",
    "print(\"maj(x, y, z):\", bin(majority))\n",
    "# Expected: For each bit position, the output is 1 if at least two of x, y, and z have a 1.\n"
   ]
  },
  {
   "cell_type": "markdown",
   "metadata": {},
   "source": [
    "# Task 2: Hash Functions\n",
    "\n",
    "In this task, we convert a hash function from C (from *The C Programming Language* by Kernighan and Ritchie) into Python. The original C code is:\n",
    "\n",
    "```c\n",
    "unsigned hash(char *s) {\n",
    "    unsigned hashval;\n",
    "    for (hashval = 0; *s != '\\0'; s++)\n",
    "        hashval = *s + 31 * hashval;\n",
    "    return hashval % 101;\n",
    "}\n"
   ]
  },
  {
   "cell_type": "code",
   "execution_count": 155,
   "metadata": {},
   "outputs": [],
   "source": [
    "def custom_hash(s: str) -> int:\n",
    "    \"\"\"\n",
    "    Compute a hash value for the string s using a method similar to the C version.\n",
    "    \n",
    "    For each character in the string, the hash value is computed as:\n",
    "        hashval = ord(character) + 31 * hashval\n",
    "    and finally, the hash value is reduced modulo 101.\n",
    "    \n",
    "    Parameters:\n",
    "        s (str): The input string.\n",
    "        \n",
    "    Returns:\n",
    "        int: The computed hash value in the range [0, 100].\n",
    "    \"\"\"\n",
    "    hashval = 0\n",
    "    for ch in s:\n",
    "        hashval = ord(ch) + 31 * hashval\n",
    "    return hashval % 101"
   ]
  },
  {
   "cell_type": "code",
   "execution_count": 156,
   "metadata": {},
   "outputs": [
    {
     "name": "stdout",
     "output_type": "stream",
     "text": [
      "Hash for 'hello': 17\n",
      "Hash for 'world': 34\n",
      "Hash for 'hash': 15\n",
      "Hash for 'function': 100\n",
      "Hash for 'Python': 81\n",
      "Hash for '': 0\n"
     ]
    }
   ],
   "source": [
    "# Test examples for the custom_hash function\n",
    "\n",
    "test_strings = [\"hello\", \"world\", \"hash\", \"function\", \"Python\", \"\"]\n",
    "\n",
    "for s in test_strings:\n",
    "    print(f\"Hash for '{s}': {custom_hash(s)}\")"
   ]
  },
  {
   "cell_type": "markdown",
   "metadata": {},
   "source": [
    "# Task 3: SHA256 Padding\n",
    "\n",
    "In this task, we write a Python function that calculates the SHA256 padding for a given file. The function takes a file path as input and prints (in hexadecimal) the padding that would be applied to that file.\n",
    "\n",
    "According to the specification, the following is appended to a message:\n",
    "\n",
    "- A single 1 bit (represented as 0x80 when appended as a byte)\n",
    "- Enough 0 bits so that the total length (in bits) of the padded message is the smallest multiple of 512 that is greater than or equal to the original length plus 1 bit plus 64 bits for the length field\n",
    "- The original message length (in bits) encoded as a big-endian 64-bit unsigned integer\n",
    "\n",
    "For example, for a file containing the three bytes \"abc\" (which is 24 bits), the output should be:\n",
    "\n",
    "```\n",
    "80 00 00 00 00 00 00 00 00 00 00 00 00 00 00 00 00 00 00 00 00 00 00 00 00 00\n",
    "00 00 00 00 00 00 00 00 00 00 00 00 00 00 00 00 00 00 00 00 00 00 00 00 00 00\n",
    "00 00 00 00 00 00 00 00 18\n",
    "```\n"
   ]
  },
  {
   "cell_type": "code",
   "execution_count": 157,
   "metadata": {},
   "outputs": [],
   "source": [
    "def sha256_padding(file_path: str) -> bytes:\n",
    "    \"\"\"\n",
    "    Calculate the SHA256 padding for the contents of a given file.\n",
    "    \n",
    "    The padding is constructed as follows:\n",
    "      1. Append a single '1' bit (0x80 in byte form).\n",
    "      2. Append enough '0' bits (as 0x00 bytes) so that the total length (in bytes)\n",
    "         of (message + padding, not including the length field) is congruent to 56 mod 64.\n",
    "      3. Append the original message length (in bits) as an 8-byte (64-bit) big-endian integer.\n",
    "      \n",
    "    Parameters:\n",
    "        file_path (str): The path to the input file.\n",
    "        \n",
    "    Returns:\n",
    "        bytes: The padding bytes that would be appended.\n",
    "    \"\"\"\n",
    "    # Read the file contents as bytes\n",
    "    with open(file_path, \"rb\") as f:\n",
    "        data = f.read()\n",
    "    \n",
    "    original_length_bits = len(data) * 8  # Message length in bits\n",
    "    # Append the '1' bit as the byte 0x80 (10000000 in binary)\n",
    "    padding = b'\\x80'\n",
    "    \n",
    "    # Calculate the number of padding bytes needed to reach 56 mod 64\n",
    "    # (56 bytes = 448 bits, leaving 8 bytes for the length field to reach a multiple of 64 bytes)\n",
    "    current_length = len(data) + 1  # +1 for the 0x80 byte\n",
    "    # Compute the number of pad bytes needed: if current_length mod 64 > 56, we need to wrap around.\n",
    "    pad_length = (56 - (current_length % 64)) % 64\n",
    "    # Append pad_length zero bytes\n",
    "    padding += b'\\x00' * pad_length\n",
    "    \n",
    "    # Append the 64-bit big-endian length field\n",
    "    padding += original_length_bits.to_bytes(8, byteorder='big')\n",
    "    \n",
    "    return padding\n",
    "\n",
    "def print_padding_hex(padding: bytes) -> None:\n",
    "    \"\"\"\n",
    "    Print the padding bytes in hex format, with a space between each byte.\n",
    "    \n",
    "    Parameters:\n",
    "        padding (bytes): The padding bytes to print.\n",
    "    \"\"\"\n",
    "    # Format each byte as a two-digit hex number and join them with spaces.\n",
    "    hex_output = ' '.join(f\"{b:02x}\" for b in padding)\n",
    "    print(hex_output)"
   ]
  },
  {
   "cell_type": "code",
   "execution_count": 158,
   "metadata": {},
   "outputs": [
    {
     "name": "stdout",
     "output_type": "stream",
     "text": [
      "80 00 00 00 00 00 00 00 00 00 00 00 00 00 00 00 00 00 00 00 00 00 00 00 00 00 00 00 00 00 00 00 00 00 00 00 00 00 00 00 00 00 00 00 00 00 00 00 00 00 00 00 00 00 00 00 00 00 00 00 18\n"
     ]
    }
   ],
   "source": [
    "# For testing, let's create a temporary file containing \"abc\" (three bytes)\n",
    "import tempfile\n",
    "\n",
    "# Create a temporary file with the content \"abc\"\n",
    "with tempfile.NamedTemporaryFile(delete=False) as tmp:\n",
    "    tmp.write(b'abc')\n",
    "    tmp_path = tmp.name\n",
    "\n",
    "# Calculate the padding for the temporary file\n",
    "padding_bytes = sha256_padding(tmp_path)\n",
    "\n",
    "# Print the padding in hex format\n",
    "print_padding_hex(padding_bytes)\n",
    "\n",
    "# Optionally, remove the temporary file after testing\n",
    "import os\n",
    "os.remove(tmp_path)\n"
   ]
  },
  {
   "cell_type": "markdown",
   "metadata": {},
   "source": [
    "## Explanation of the SHA256 Padding Process\n",
    "\n",
    "The SHA256 padding is calculated in three steps:\n",
    "\n",
    "1. **Append a 1 bit:**  \n",
    "   This is represented as the byte `0x80` (binary `10000000`).\n",
    "\n",
    "2. **Append 0 bits:**  \n",
    "   We then append as many zero bytes (`0x00`) as needed so that the total length of the message \n",
    "   (including the `0x80` byte but excluding the length field) becomes congruent to 56 modulo 64.  \n",
    "   This ensures that, after appending an 8-byte (64-bit) representation of the original message length, \n",
    "   the total length is a multiple of 64 bytes (512 bits).\n",
    "\n",
    "3. **Append the 64-bit length field:**  \n",
    "   Finally, the original message length (in bits) is appended as an 8-byte big-endian integer.\n",
    "\n",
    "For the example with the file containing \"abc\" (which is 24 bits long):\n",
    "- After the message, the `0x80` byte is appended.\n",
    "- Then, enough zero bytes are added so that the total length (excluding the length field) is 56 bytes.\n",
    "- Finally, the 8-byte representation of 24 (0x18 in hex) is appended.\n"
   ]
  },
  {
   "cell_type": "markdown",
   "metadata": {},
   "source": [
    "# Task 4: Prime Numbers\n",
    "\n",
    "In this task, we calculate the first 100 prime numbers using two different algorithms. We will implement:\n",
    "\n",
    "1. **Algorithm 1:** A simple trial division method.\n",
    "2. **Algorithm 2:** The Sieve of Eratosthenes.\n",
    "\n",
    "Below, each algorithm is implemented in a separate code cell. We then test both methods and explain how they work.\n"
   ]
  },
  {
   "cell_type": "code",
   "execution_count": 159,
   "metadata": {},
   "outputs": [
    {
     "name": "stdout",
     "output_type": "stream",
     "text": [
      "First 100 primes (Trial Division):\n",
      "[2, 3, 5, 7, 11, 13, 17, 19, 23, 29, 31, 37, 41, 43, 47, 53, 59, 61, 67, 71, 73, 79, 83, 89, 97, 101, 103, 107, 109, 113, 127, 131, 137, 139, 149, 151, 157, 163, 167, 173, 179, 181, 191, 193, 197, 199, 211, 223, 227, 229, 233, 239, 241, 251, 257, 263, 269, 271, 277, 281, 283, 293, 307, 311, 313, 317, 331, 337, 347, 349, 353, 359, 367, 373, 379, 383, 389, 397, 401, 409, 419, 421, 431, 433, 439, 443, 449, 457, 461, 463, 467, 479, 487, 491, 499, 503, 509, 521, 523, 541]\n"
     ]
    }
   ],
   "source": [
    "def is_prime_trial(n: int) -> bool:\n",
    "    \"\"\"\n",
    "    Check if n is a prime number using trial division.\n",
    "    \n",
    "    This function tests divisibility of n by all integers from 2 up to the square root of n.\n",
    "    If any divisor is found, n is not prime.\n",
    "    \n",
    "    Parameters:\n",
    "        n (int): The number to test.\n",
    "        \n",
    "    Returns:\n",
    "        bool: True if n is prime, False otherwise.\n",
    "    \"\"\"\n",
    "    if n < 2:\n",
    "        return False\n",
    "    # Check for factors from 2 to int(sqrt(n))\n",
    "    for i in range(2, int(n**0.5) + 1):\n",
    "        if n % i == 0:\n",
    "            return False\n",
    "    return True\n",
    "\n",
    "def first_100_primes_trial() -> list:\n",
    "    \"\"\"\n",
    "    Generate the first 100 prime numbers using trial division.\n",
    "    \n",
    "    Returns:\n",
    "        list: A list of the first 100 prime numbers.\n",
    "    \"\"\"\n",
    "    primes = []\n",
    "    candidate = 2\n",
    "    while len(primes) < 100:\n",
    "        if is_prime_trial(candidate):\n",
    "            primes.append(candidate)\n",
    "        candidate += 1\n",
    "    return primes\n",
    "\n",
    "# Calculate and display the first 100 primes using trial division\n",
    "primes_trial = first_100_primes_trial()\n",
    "print(\"First 100 primes (Trial Division):\")\n",
    "print(primes_trial)\n"
   ]
  },
  {
   "cell_type": "code",
   "execution_count": 160,
   "metadata": {},
   "outputs": [
    {
     "name": "stdout",
     "output_type": "stream",
     "text": [
      "First 100 primes (Sieve of Eratosthenes):\n",
      "[2, 3, 5, 7, 11, 13, 17, 19, 23, 29, 31, 37, 41, 43, 47, 53, 59, 61, 67, 71, 73, 79, 83, 89, 97, 101, 103, 107, 109, 113, 127, 131, 137, 139, 149, 151, 157, 163, 167, 173, 179, 181, 191, 193, 197, 199, 211, 223, 227, 229, 233, 239, 241, 251, 257, 263, 269, 271, 277, 281, 283, 293, 307, 311, 313, 317, 331, 337, 347, 349, 353, 359, 367, 373, 379, 383, 389, 397, 401, 409, 419, 421, 431, 433, 439, 443, 449, 457, 461, 463, 467, 479, 487, 491, 499, 503, 509, 521, 523, 541]\n"
     ]
    }
   ],
   "source": [
    "def sieve_of_eratosthenes(limit: int) -> list:\n",
    "    \"\"\"\n",
    "    Generate a list of prime numbers up to a given limit using the Sieve of Eratosthenes.\n",
    "    \n",
    "    Parameters:\n",
    "        limit (int): The upper bound to generate primes (inclusive).\n",
    "        \n",
    "    Returns:\n",
    "        list: A list of prime numbers up to the given limit.\n",
    "    \"\"\"\n",
    "    sieve = [True] * (limit + 1)\n",
    "    sieve[0:2] = [False, False]  # 0 and 1 are not prime\n",
    "    p = 2\n",
    "    while p * p <= limit:\n",
    "        if sieve[p]:\n",
    "            # Mark multiples of p as non-prime\n",
    "            for i in range(p * p, limit + 1, p):\n",
    "                sieve[i] = False\n",
    "        p += 1\n",
    "    return [i for i, is_prime in enumerate(sieve) if is_prime]\n",
    "\n",
    "def first_100_primes_sieve() -> list:\n",
    "    \"\"\"\n",
    "    Generate the first 100 prime numbers using the Sieve of Eratosthenes.\n",
    "    \n",
    "    Since the exact upper limit is not known beforehand, we start with a guess and increase it if needed.\n",
    "    \n",
    "    Returns:\n",
    "        list: A list of the first 100 prime numbers.\n",
    "    \"\"\"\n",
    "    # Initial guess for an upper bound\n",
    "    upper_bound = 600  \n",
    "    while True:\n",
    "        primes = sieve_of_eratosthenes(upper_bound)\n",
    "        if len(primes) >= 100:\n",
    "            return primes[:100]\n",
    "        upper_bound *= 2  # Increase bound and try again\n",
    "\n",
    "# Calculate and display the first 100 primes using the Sieve of Eratosthenes\n",
    "primes_sieve = first_100_primes_sieve()\n",
    "print(\"First 100 primes (Sieve of Eratosthenes):\")\n",
    "print(primes_sieve)\n"
   ]
  },
  {
   "cell_type": "markdown",
   "metadata": {},
   "source": [
    "## Explanation of the Algorithms\n",
    "\n",
    "### Trial Division Method\n",
    "- **How It Works:**  \n",
    "  The trial division algorithm checks each candidate number by testing for divisibility by every integer from 2 up to the square root of the candidate. If no divisor is found, the number is prime.\n",
    "- **Pros and Cons:**  \n",
    "  - **Pros:** Simple to implement.\n",
    "  - **Cons:** Inefficient for larger numbers because it performs many divisions.\n",
    "\n",
    "### Sieve of Eratosthenes\n",
    "- **How It Works:**  \n",
    "  The sieve creates a boolean list (the \"sieve\") representing numbers up to a given limit. Starting from 2, it marks multiples of each prime as non-prime. The remaining numbers marked as prime are collected.\n",
    "- **Pros and Cons:**  \n",
    "  - **Pros:** Efficient for generating all primes up to a large limit.\n",
    "  - **Cons:** Requires knowing or guessing an upper bound and uses extra memory for the sieve.\n"
   ]
  },
  {
   "cell_type": "code",
   "execution_count": 161,
   "metadata": {},
   "outputs": [
    {
     "name": "stdout",
     "output_type": "stream",
     "text": [
      "Both algorithms produced the same list of primes.\n",
      "First 100 primes:\n",
      "[2, 3, 5, 7, 11, 13, 17, 19, 23, 29, 31, 37, 41, 43, 47, 53, 59, 61, 67, 71, 73, 79, 83, 89, 97, 101, 103, 107, 109, 113, 127, 131, 137, 139, 149, 151, 157, 163, 167, 173, 179, 181, 191, 193, 197, 199, 211, 223, 227, 229, 233, 239, 241, 251, 257, 263, 269, 271, 277, 281, 283, 293, 307, 311, 313, 317, 331, 337, 347, 349, 353, 359, 367, 373, 379, 383, 389, 397, 401, 409, 419, 421, 431, 433, 439, 443, 449, 457, 461, 463, 467, 479, 487, 491, 499, 503, 509, 521, 523, 541]\n"
     ]
    }
   ],
   "source": [
    "# Verify that both methods yield the same 100 primes\n",
    "if primes_trial == primes_sieve:\n",
    "    print(\"Both algorithms produced the same list of primes.\")\n",
    "else:\n",
    "    print(\"There is a discrepancy between the two algorithms.\")\n",
    "\n",
    "# Optionally, print the list of primes\n",
    "print(\"First 100 primes:\")\n",
    "print(primes_trial)\n"
   ]
  },
  {
   "cell_type": "markdown",
   "metadata": {},
   "source": [
    "# Task 5: Roots\n",
    "\n",
    "In this task, we calculate the first 32 bits of the fractional part of the square roots of the first 100 prime numbers.\n",
    "\n",
    "For each prime number _p_, we perform the following steps:\n",
    "1. Compute the square root: `sqrt(p)`.\n",
    "2. Extract the fractional part: `sqrt(p) - floor(sqrt(p))`.\n",
    "3. Multiply the fractional part by 2^32 (i.e. 4294967296) and take the integer part.\n",
    "4. Represent this 32-bit value in hexadecimal.\n"
   ]
  },
  {
   "cell_type": "code",
   "execution_count": 162,
   "metadata": {},
   "outputs": [
    {
     "name": "stdout",
     "output_type": "stream",
     "text": [
      "First 100 primes:\n",
      "[2, 3, 5, 7, 11, 13, 17, 19, 23, 29, 31, 37, 41, 43, 47, 53, 59, 61, 67, 71, 73, 79, 83, 89, 97, 101, 103, 107, 109, 113, 127, 131, 137, 139, 149, 151, 157, 163, 167, 173, 179, 181, 191, 193, 197, 199, 211, 223, 227, 229, 233, 239, 241, 251, 257, 263, 269, 271, 277, 281, 283, 293, 307, 311, 313, 317, 331, 337, 347, 349, 353, 359, 367, 373, 379, 383, 389, 397, 401, 409, 419, 421, 431, 433, 439, 443, 449, 457, 461, 463, 467, 479, 487, 491, 499, 503, 509, 521, 523, 541]\n"
     ]
    }
   ],
   "source": [
    "import math\n",
    "\n",
    "def first_100_primes() -> list:\n",
    "    \"\"\"\n",
    "    Generate the first 100 prime numbers using a simple trial division method.\n",
    "    \n",
    "    Returns:\n",
    "        list: A list containing the first 100 prime numbers.\n",
    "    \"\"\"\n",
    "    primes = []\n",
    "    candidate = 2\n",
    "    while len(primes) < 100:\n",
    "        is_prime = True\n",
    "        for i in range(2, int(math.sqrt(candidate)) + 1):\n",
    "            if candidate % i == 0:\n",
    "                is_prime = False\n",
    "                break\n",
    "        if is_prime:\n",
    "            primes.append(candidate)\n",
    "        candidate += 1\n",
    "    return primes\n",
    "\n",
    "# Generate and display the first 100 primes\n",
    "primes = first_100_primes()\n",
    "print(\"First 100 primes:\")\n",
    "print(primes)"
   ]
  },
  {
   "cell_type": "code",
   "execution_count": 163,
   "metadata": {},
   "outputs": [
    {
     "name": "stdout",
     "output_type": "stream",
     "text": [
      "32-bit fractional part for sqrt(2): 6a09e667\n"
     ]
    }
   ],
   "source": [
    "def fractional_32bits(prime: int) -> int:\n",
    "    \"\"\"\n",
    "    Calculate the first 32 bits of the fractional part of the square root of a prime number.\n",
    "    \n",
    "    Steps:\n",
    "      1. Compute sqrt(prime).\n",
    "      2. Subtract floor(sqrt(prime)) to get the fractional part.\n",
    "      3. Multiply the fractional part by 2^32 and take the integer part.\n",
    "    \n",
    "    Parameters:\n",
    "        prime (int): A prime number.\n",
    "        \n",
    "    Returns:\n",
    "        int: The 32-bit integer representing the fractional part of sqrt(prime).\n",
    "    \"\"\"\n",
    "    sqrt_value = math.sqrt(prime)\n",
    "    fractional_part = sqrt_value - math.floor(sqrt_value)\n",
    "    value_32 = int(fractional_part * (2**32))\n",
    "    return value_32\n",
    "\n",
    "# Example: Calculate the 32-bit fractional part for a sample prime (e.g., 2)\n",
    "print(f\"32-bit fractional part for sqrt(2): {format(fractional_32bits(2), '08x')}\")\n"
   ]
  },
  {
   "cell_type": "code",
   "execution_count": 164,
   "metadata": {},
   "outputs": [
    {
     "name": "stdout",
     "output_type": "stream",
     "text": [
      "Prime    32-bit Fractional Part (Hex)\n",
      "2        6a09e667\n",
      "3        bb67ae85\n",
      "5        3c6ef372\n",
      "7        a54ff53a\n",
      "11       510e527f\n",
      "13       9b05688c\n",
      "17       1f83d9ab\n",
      "19       5be0cd19\n",
      "23       cbbb9d5d\n",
      "29       629a292a\n",
      "31       9159015a\n",
      "37       152fecd8\n",
      "41       67332667\n",
      "43       8eb44a87\n",
      "47       db0c2e0d\n",
      "53       47b5481d\n",
      "59       ae5f9156\n",
      "61       cf6c85d3\n",
      "67       2f73477d\n",
      "71       6d1826ca\n",
      "73       8b43d457\n",
      "79       e360b596\n",
      "83       1c456002\n",
      "89       6f196331\n",
      "97       d94ebeb1\n",
      "101      0cc4a611\n",
      "103      261dc1f2\n",
      "107      5815a7be\n",
      "109      70b7ed67\n",
      "113      a1513c69\n",
      "127      44f93635\n",
      "131      720dcdfd\n",
      "137      b467369e\n",
      "139      ca320b75\n",
      "149      34e0d42e\n",
      "151      49c7d9bd\n",
      "157      87abb9f2\n",
      "163      c463a2fc\n",
      "167      ec3fc3f3\n",
      "173      27277f6d\n",
      "179      610bebf2\n",
      "181      7420b49e\n",
      "191      d1fd8a33\n",
      "193      e4773594\n",
      "197      092197f6\n",
      "199      1b530c95\n",
      "211      869d6342\n",
      "223      eee52e4f\n",
      "227      11076689\n",
      "229      21fba37b\n",
      "233      43ab9fb6\n",
      "239      75a9f91d\n",
      "241      86305019\n",
      "251      d7cd8173\n",
      "257      07fe00ff\n",
      "263      379f513f\n",
      "269      66b651a8\n",
      "271      764ab842\n",
      "277      a4b06be1\n",
      "281      c3578c15\n",
      "283      d2962a53\n",
      "293      1e039f40\n",
      "307      857b7bee\n",
      "311      a29bf2de\n",
      "313      b11a32e8\n",
      "317      cdf34e80\n",
      "331      31830426\n",
      "337      5b89092b\n",
      "347      a0c06a13\n",
      "349      ae79842f\n",
      "353      c9cda689\n",
      "359      f281f239\n",
      "367      28412592\n",
      "373      502e64db\n",
      "379      77c9c211\n",
      "383      9204cd9d\n",
      "389      b91bf663\n",
      "397      ecc38c9d\n",
      "401      06656095\n",
      "409      39479381\n",
      "419      78307697\n",
      "421      84ae4b7c\n",
      "431      c2b2b755\n",
      "433      cf03d20e\n",
      "439      f3cbb117\n",
      "443      0c2d3b4b\n",
      "449      308af161\n",
      "457      60a7a998\n",
      "461      788d9812\n",
      "463      84769b42\n",
      "467      9c34f062\n",
      "479      e2d564c4\n",
      "487      116d75fd\n",
      "491      2894c107\n",
      "499      569b58c6\n",
      "503      6d7b3939\n",
      "509      8f9f8dbb\n",
      "521      d34f03cd\n",
      "523      de8372ef\n",
      "541      42687a39\n"
     ]
    }
   ],
   "source": [
    "# Compute the 32-bit fractional part (in hexadecimal) for each of the first 100 primes\n",
    "results = []\n",
    "for p in primes:\n",
    "    frac_value = fractional_32bits(p)\n",
    "    hex_value = format(frac_value, '08x')  # Format as an 8-digit hexadecimal number\n",
    "    results.append((p, hex_value))\n",
    "\n",
    "# Print the results in a tabular format\n",
    "print(\"Prime    32-bit Fractional Part (Hex)\")\n",
    "for prime, hex_val in results:\n",
    "    print(f\"{prime:<8} {hex_val}\")\n"
   ]
  },
  {
   "cell_type": "markdown",
   "metadata": {},
   "source": [
    "## Explanation of the Process\n",
    "\n",
    "For each prime number _p_, the following steps are performed:\n",
    "\n",
    "1. **Square Root Calculation:**  \n",
    "   Compute `sqrt(p)` using Python's math library.\n",
    "\n",
    "2. **Fractional Part Extraction:**  \n",
    "   Subtract the integer part (`floor(sqrt(p))`) from `sqrt(p)` to obtain the fractional part.\n",
    "\n",
    "3. **Conversion to 32 Bits:**  \n",
    "   Multiply the fractional part by 2^32 (i.e. 4294967296). The integer part of this product is the first 32 bits of the fractional part.\n",
    "\n",
    "4. **Hexadecimal Representation:**  \n",
    "   The resulting integer is formatted as an 8-digit hexadecimal number, representing the 32-bit value.\n",
    "\n",
    "This process is similar to the method used in SHA-256, where the first 32 bits of the fractional parts of the square roots of selected prime numbers are used as constants.\n"
   ]
  },
  {
   "cell_type": "markdown",
   "metadata": {},
   "source": [
    "# Task 6: Proof of Work\n",
    "\n",
    "In this task, we need to find the English word (or words) that yield a SHA256 hash with the greatest number of consecutive 0 bits at the beginning (i.e. the most leading zero bits).\n",
    "\n",
    "We also need to include proof that any word we list is in at least one English dictionary. In our solution, we will load an English dictionary from the file `dolph_dictionary.txt` (which is in the same directory as our script) and search through its words.\n"
   ]
  },
  {
   "cell_type": "code",
   "execution_count": 165,
   "metadata": {},
   "outputs": [
    {
     "name": "stdout",
     "output_type": "stream",
     "text": [
      "Loaded 172823 words from the dictionary (dolph_dictionary.txt).\n"
     ]
    }
   ],
   "source": [
    "import hashlib\n",
    "\n",
    "def count_leading_zero_bits(hash_bytes: bytes) -> int:\n",
    "    \"\"\"\n",
    "    Count the number of consecutive 0 bits from the beginning of the hash bytes.\n",
    "    \"\"\"\n",
    "    count = 0\n",
    "    for b in hash_bytes:\n",
    "        for i in range(8):\n",
    "            # Check the most significant bit first\n",
    "            if b & (1 << (7 - i)):\n",
    "                return count\n",
    "            count += 1\n",
    "    return count\n",
    "\n",
    "# Load the dictionary from the local file \"dolph_dictionary.txt\"\n",
    "try:\n",
    "    with open(\"dolph_dictionary.txt\", \"r\") as f:\n",
    "        dictionary_words = [line.strip() for line in f if line.strip()]\n",
    "except FileNotFoundError:\n",
    "    # Fallback: use a small list if the file isn't found\n",
    "    dictionary_words = [\"example\", \"test\", \"prime\", \"zero\", \"one\", \"bitcoin\", \"crypto\"]\n",
    "\n",
    "print(f\"Loaded {len(dictionary_words)} words from the dictionary (dolph_dictionary.txt).\")\n"
   ]
  },
  {
   "cell_type": "code",
   "execution_count": 166,
   "metadata": {},
   "outputs": [
    {
     "name": "stdout",
     "output_type": "stream",
     "text": [
      "Maximum number of leading zero bits found: 18\n",
      "Word(s) with the maximum leading zero bits in their SHA256 hash:\n",
      "['goaltenders']\n"
     ]
    }
   ],
   "source": [
    "max_zeros = -1\n",
    "max_words = []\n",
    "\n",
    "# Process each word from the dictionary\n",
    "for word in dictionary_words:\n",
    "    # Compute the SHA256 hash of the word (encoded in UTF-8)\n",
    "    hash_bytes = hashlib.sha256(word.encode('utf-8')).digest()\n",
    "    zeros = count_leading_zero_bits(hash_bytes)\n",
    "    \n",
    "    # Update our maximum if we find a word with more leading zeros\n",
    "    if zeros > max_zeros:\n",
    "        max_zeros = zeros\n",
    "        max_words = [word]\n",
    "    elif zeros == max_zeros:\n",
    "        max_words.append(word)\n",
    "\n",
    "print(f\"Maximum number of leading zero bits found: {max_zeros}\")\n",
    "print(\"Word(s) with the maximum leading zero bits in their SHA256 hash:\")\n",
    "print(max_words)\n"
   ]
  },
  {
   "cell_type": "code",
   "execution_count": 167,
   "metadata": {},
   "outputs": [
    {
     "name": "stdout",
     "output_type": "stream",
     "text": [
      "Proof of dictionary:\n",
      "The word 'goaltenders' is present in the English dictionary (dolph_dictionary.txt).\n"
     ]
    }
   ],
   "source": [
    "# For each word found with the maximum number of leading zero bits,\n",
    "# confirm that it exists in the dictionary (since we loaded them from dolph_dictionary.txt).\n",
    "print(\"Proof of dictionary:\")\n",
    "for word in max_words:\n",
    "    if word in dictionary_words:\n",
    "        print(f\"The word '{word}' is present in the English dictionary (dolph_dictionary.txt).\")\n",
    "    else:\n",
    "        print(f\"ERROR: '{word}' was not found in the dictionary!\")\n"
   ]
  },
  {
   "cell_type": "markdown",
   "metadata": {},
   "source": [
    "## Explanation of the Approach\n",
    "\n",
    "1. **SHA256 Hash and Leading Zero Bits:**\n",
    "   - For each word, we compute its SHA256 hash using Python’s `hashlib` module.\n",
    "   - We then count the number of consecutive 0 bits from the beginning of the hash digest.\n",
    "   - This is done by iterating over each byte (starting with the most significant bit) and counting until the first 1 is encountered.\n",
    "\n",
    "2. **Searching Through an English Dictionary:**\n",
    "   - We load words from the local file `dolph_dictionary.txt`, which contains a list of English words.\n",
    "   - We iterate over every word, compute its SHA256 hash, and track the word(s) with the maximum number of leading 0 bits.\n",
    "\n",
    "3. **Proof of Dictionary Membership:**\n",
    "   - We verify that each word with the maximum leading zeros is indeed present in `dolph_dictionary.txt`.\n",
    "   - This serves as proof that the word is in at least one English dictionary.\n",
    "\n",
    "By running these cells, you will determine which English word(s) yield the highest number of leading 0 bits in their SHA256 hash and verify their dictionary membership.\n"
   ]
  }
 ],
 "metadata": {
  "kernelspec": {
   "display_name": "Python 3",
   "language": "python",
   "name": "python3"
  },
  "language_info": {
   "codemirror_mode": {
    "name": "ipython",
    "version": 3
   },
   "file_extension": ".py",
   "mimetype": "text/x-python",
   "name": "python",
   "nbconvert_exporter": "python",
   "pygments_lexer": "ipython3",
   "version": "3.12.1"
  }
 },
 "nbformat": 4,
 "nbformat_minor": 2
}
