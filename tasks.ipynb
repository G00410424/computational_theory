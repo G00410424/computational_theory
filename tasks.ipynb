{
 "cells": [
  {
   "cell_type": "markdown",
   "metadata": {},
   "source": [
    "# Tasks\n",
    "This notebook contains the solutions for the Computational Theory tasks"
   ]
  },
  {
   "cell_type": "markdown",
   "metadata": {},
   "source": []
  },
  {
   "cell_type": "markdown",
   "metadata": {},
   "source": [
    "# Task 1: Binary Representations\n",
    "\n",
    "In this task, we implement four functions based on the FIPS 180-4 Secure Hash Standard:\n",
    "- `rotl(x, n=1)`: Rotate bits of a 32-bit unsigned integer to the left by n positions.\n",
    "- `rotr(x, n=1)`: Rotate bits of a 32-bit unsigned integer to the right by n positions.\n",
    "- `ch(x, y, z)`: Choose bits from `y` when the corresponding bit in `x` is 1; otherwise, choose from `z`.\n",
    "- `maj(x, y, z)`: Compute the majority vote for each bit position (i.e., output a 1 if at least two of the three inputs have a 1 in that bit).\n",
    "\n",
    "**Reference:** FIPS 180-4, Secure Hash Standard (SHS)"
   ]
  },
  {
   "cell_type": "code",
   "execution_count": null,
   "metadata": {
    "vscode": {
     "languageId": "plaintext"
    }
   },
   "outputs": [],
   "source": [
    "# Define the function to rotate left (rotl) for a 32-bit unsigned integer.\n",
    "def rotl(x, n=1):\n",
    "    \"\"\"\n",
    "    Rotate the 32-bit unsigned integer x to the left by n bits.\n",
    "    \n",
    "    Parameters:\n",
    "        x (int): 32-bit unsigned integer.\n",
    "        n (int): Number of positions to rotate (default is 1).\n",
    "    \n",
    "    Returns:\n",
    "        int: The result of rotating x to the left by n positions.\n",
    "    \"\"\"\n",
    "    # Shift left by n, shift right by (32 - n), and combine with bitwise OR.\n",
    "    # Use bitwise AND with 0xFFFFFFFF to ensure the result stays within 32 bits.\n",
    "    return ((x << n) | (x >> (32 - n))) & 0xFFFFFFFF\n",
    "\n",
    "# Define the function to rotate right (rotr) for a 32-bit unsigned integer.\n",
    "def rotr(x, n=1):\n",
    "    \"\"\"\n",
    "    Rotate the 32-bit unsigned integer x to the right by n bits.\n",
    "    \n",
    "    Parameters:\n",
    "        x (int): 32-bit unsigned integer.\n",
    "        n (int): Number of positions to rotate (default is 1).\n",
    "    \n",
    "    Returns:\n",
    "        int: The result of rotating x to the right by n positions.\n",
    "    \"\"\"\n",
    "    return ((x >> n) | (x << (32 - n))) & 0xFFFFFFFF\n",
    "\n",
    "# Define the choice function (ch) that selects bits from y or z based on x.\n",
    "def ch(x, y, z):\n",
    "    \"\"\"\n",
    "    Choose bits from y or z based on the bits in x.\n",
    "    \n",
    "    For each bit position, if x has a 1, take the corresponding bit from y;\n",
    "    otherwise, take the bit from z.\n",
    "    \n",
    "    Parameters:\n",
    "        x, y, z (int): 32-bit unsigned integers.\n",
    "    \n",
    "    Returns:\n",
    "        int: The result after selecting bits.\n",
    "    \"\"\"\n",
    "    # (x AND y) gives bits from y where x is 1.\n",
    "    # (~x AND z) gives bits from z where x is 0.\n",
    "    return (x & y) ^ ((~x) & z)  # XOR here works like OR for non-overlapping bits\n",
    "\n",
    "# Define the majority function (maj) which outputs the majority vote of bits.\n",
    "def maj(x, y, z):\n",
    "    \"\"\"\n",
    "    Compute the majority of the bits in x, y, and z.\n",
    "    \n",
    "    For each bit position, the output bit is 1 if at least two of the inputs\n",
    "    have a 1 in that position.\n",
    "    \n",
    "    Parameters:\n",
    "        x, y, z (int): 32-bit unsigned integers.\n",
    "    \n",
    "    Returns:\n",
    "        int: The result of the majority vote.\n",
    "    \"\"\"\n",
    "    # Using the formula: (x AND y) OR (x AND z) OR (y AND z)\n",
    "    return (x & y) | (x & z) | (y & z)"
   ]
  },
  {
   "cell_type": "markdown",
   "metadata": {},
   "source": []
  }
 ],
 "metadata": {
  "language_info": {
   "name": "python"
  }
 },
 "nbformat": 4,
 "nbformat_minor": 2
}
