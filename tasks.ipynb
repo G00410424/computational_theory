{
 "cells": [
  {
   "cell_type": "markdown",
   "metadata": {},
   "source": [
    "# Tasks\n",
    "This notebook contains the solutions for the Computational Theory tasks"
   ]
  },
  {
   "cell_type": "markdown",
   "metadata": {},
   "source": []
  },
  {
   "cell_type": "markdown",
   "metadata": {},
   "source": [
    "# Task 1: Binary Representations\n",
    "\n",
    "In this task, we implement four functions based on the FIPS 180-4 Secure Hash Standard:\n",
    "- `rotl(x, n=1)`: Rotate bits of a 32-bit unsigned integer to the left by n positions.\n",
    "- `rotr(x, n=1)`: Rotate bits of a 32-bit unsigned integer to the right by n positions.\n",
    "- `ch(x, y, z)`: Choose bits from `y` when the corresponding bit in `x` is 1; otherwise, choose from `z`.\n",
    "- `maj(x, y, z)`: Compute the majority vote for each bit position (i.e., output a 1 if at least two of the three inputs have a 1 in that bit).\n",
    "\n",
    "**Reference:** FIPS 180-4, Secure Hash Standard (SHS)"
   ]
  }
 ],
 "metadata": {
  "language_info": {
   "name": "python"
  }
 },
 "nbformat": 4,
 "nbformat_minor": 2
}
