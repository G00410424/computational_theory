{
 "cells": [
  {
   "cell_type": "markdown",
   "metadata": {},
   "source": [
    "# Tasks\n",
    "This notebook contains the solutions for the Computational Theory tasks"
   ]
  },
  {
   "cell_type": "markdown",
   "metadata": {},
   "source": []
  },
  {
   "cell_type": "markdown",
   "metadata": {},
   "source": [
    "# Task 1: Binary Representations\n",
    "\n",
    "In this task, we implement four functions based on the FIPS 180-4 Secure Hash Standard:\n",
    "- `rotl(x, n=1)`: Rotate bits of a 32-bit unsigned integer to the left by n positions.\n",
    "- `rotr(x, n=1)`: Rotate bits of a 32-bit unsigned integer to the right by n positions.\n",
    "- `ch(x, y, z)`: Choose bits from `y` when the corresponding bit in `x` is 1; otherwise, choose from `z`.\n",
    "- `maj(x, y, z)`: Compute the majority vote for each bit position (i.e., output a 1 if at least two of the three inputs have a 1 in that bit).\n",
    "\n",
    "**Reference:** FIPS 180-4, Secure Hash Standard (SHS)"
   ]
  },
  {
   "cell_type": "code",
   "execution_count": 1,
   "metadata": {},
   "outputs": [],
   "source": [
    "# Define the function to rotate left (rotl) for a 32-bit unsigned integer.\n",
    "def rotl(x, n=1):\n",
    "    \"\"\"\n",
    "    Rotate the 32-bit unsigned integer x to the left by n bits.\n",
    "    \n",
    "    Parameters:\n",
    "        x (int): 32-bit unsigned integer.\n",
    "        n (int): Number of positions to rotate (default is 1).\n",
    "    \n",
    "    Returns:\n",
    "        int: The result of rotating x to the left by n positions.\n",
    "    \"\"\"\n",
    "    # Shift left by n, shift right by (32 - n), and combine with bitwise OR.\n",
    "    # Use bitwise AND with 0xFFFFFFFF to ensure the result stays within 32 bits.\n",
    "    return ((x << n) | (x >> (32 - n))) & 0xFFFFFFFF\n",
    "\n",
    "# Define the function to rotate right (rotr) for a 32-bit unsigned integer.\n",
    "def rotr(x, n=1):\n",
    "    \"\"\"\n",
    "    Rotate the 32-bit unsigned integer x to the right by n bits.\n",
    "    \n",
    "    Parameters:\n",
    "        x (int): 32-bit unsigned integer.\n",
    "        n (int): Number of positions to rotate (default is 1).\n",
    "    \n",
    "    Returns:\n",
    "        int: The result of rotating x to the right by n positions.\n",
    "    \"\"\"\n",
    "    return ((x >> n) | (x << (32 - n))) & 0xFFFFFFFF\n",
    "\n",
    "# Define the choice function (ch) that selects bits from y or z based on x.\n",
    "def ch(x, y, z):\n",
    "    \"\"\"\n",
    "    Choose bits from y or z based on the bits in x.\n",
    "    \n",
    "    For each bit position, if x has a 1, take the corresponding bit from y;\n",
    "    otherwise, take the bit from z.\n",
    "    \n",
    "    Parameters:\n",
    "        x, y, z (int): 32-bit unsigned integers.\n",
    "    \n",
    "    Returns:\n",
    "        int: The result after selecting bits.\n",
    "    \"\"\"\n",
    "    # (x AND y) gives bits from y where x is 1.\n",
    "    # (~x AND z) gives bits from z where x is 0.\n",
    "    return (x & y) ^ ((~x) & z)  # XOR here works like OR for non-overlapping bits\n",
    "\n",
    "# Define the majority function (maj) which outputs the majority vote of bits.\n",
    "def maj(x, y, z):\n",
    "    \"\"\"\n",
    "    Compute the majority of the bits in x, y, and z.\n",
    "    \n",
    "    For each bit position, the output bit is 1 if at least two of the inputs\n",
    "    have a 1 in that position.\n",
    "    \n",
    "    Parameters:\n",
    "        x, y, z (int): 32-bit unsigned integers.\n",
    "    \n",
    "    Returns:\n",
    "        int: The result of the majority vote.\n",
    "    \"\"\"\n",
    "    # Using the formula: (x AND y) OR (x AND z) OR (y AND z)\n",
    "    return (x & y) | (x & z) | (y & z)"
   ]
  },
  {
   "cell_type": "markdown",
   "metadata": {},
   "source": [
    "## Testing the Functions\n",
    "\n",
    "In the following cell, we will demonstrate example usages and simple tests for each of the functions:\n",
    "- We'll provide sample inputs to check that our functions perform the expected bit rotations.\n",
    "- We will test `ch` and `maj` to confirm they return the correct values based on binary logic.\n",
    "- Each example is accompanied by comments to explain what is being tested.\n"
   ]
  },
  {
   "cell_type": "code",
   "execution_count": 2,
   "metadata": {},
   "outputs": [
    {
     "name": "stdout",
     "output_type": "stream",
     "text": [
      "rotl(0x12345678, 4): 0x23456781\n"
     ]
    },
    {
     "name": "stdout",
     "output_type": "stream",
     "text": [
      "rotr(0x12345678, 4): 0x81234567\n",
      "ch(a, b, c): 0b10101010101010101010101010101010\n",
      "maj(x, y, z): 0b11101000111010001110100011101000\n"
     ]
    }
   ],
   "source": [
    "# Test examples for the functions\n",
    "\n",
    "# Example for rotl:\n",
    "x = 0x12345678  # Example 32-bit number in hexadecimal\n",
    "rotated_left = rotl(x, 4)\n",
    "print(\"rotl(0x12345678, 4):\", hex(rotated_left))\n",
    "# Expected: The bits should be rotated 4 positions to the left\n",
    "\n",
    "# Example for rotr:\n",
    "rotated_right = rotr(x, 4)\n",
    "print(\"rotr(0x12345678, 4):\", hex(rotated_right))\n",
    "# Expected: The bits should be rotated 4 positions to the right\n",
    "\n",
    "# Example for ch:\n",
    "# Let's choose arbitrary 32-bit numbers for testing.\n",
    "a = 0b10101010101010101010101010101010  # Pattern: alternating bits\n",
    "b = 0xFFFFFFFF  # All bits 1\n",
    "c = 0x00000000  # All bits 0\n",
    "chosen = ch(a, b, c)\n",
    "print(\"ch(a, b, c):\", bin(chosen))\n",
    "# Expected: For each bit position, if bit in a is 1, bit from b (1) is chosen; else, bit from c (0)\n",
    "\n",
    "# Example for maj:\n",
    "# Using three arbitrary numbers.\n",
    "x_val = 0b11001100110011001100110011001100\n",
    "y_val = 0b10101010101010101010101010101010\n",
    "z_val = 0b11110000111100001111000011110000\n",
    "majority = maj(x_val, y_val, z_val)\n",
    "print(\"maj(x, y, z):\", bin(majority))\n",
    "# Expected: For each bit position, the output is 1 if at least two of x, y, and z have a 1.\n"
   ]
  },
  {
   "cell_type": "markdown",
   "metadata": {},
   "source": [
    "# Task 2: Hash Functions\n",
    "\n",
    "In this task, we convert a hash function from C (from *The C Programming Language* by Kernighan and Ritchie) into Python. The original C code is:\n",
    "\n",
    "```c\n",
    "unsigned hash(char *s) {\n",
    "    unsigned hashval;\n",
    "    for (hashval = 0; *s != '\\0'; s++)\n",
    "        hashval = *s + 31 * hashval;\n",
    "    return hashval % 101;\n",
    "}\n"
   ]
  },
  {
   "cell_type": "markdown",
   "metadata": {},
   "source": [
    "**Purpose:**  \n",
    "Define the Python version of the hash function. Since `hash` is a built-in in Python, we use the name `custom_hash`.\n",
    "\n",
    "**What to Do:**  \n",
    "Immediately below the Markdown cell from Step 1, insert a new **Code cell** and paste the following code:\n"
   ]
  }
 ],
 "metadata": {
  "kernelspec": {
   "display_name": "Python 3",
   "language": "python",
   "name": "python3"
  },
  "language_info": {
   "codemirror_mode": {
    "name": "ipython",
    "version": 3
   },
   "file_extension": ".py",
   "mimetype": "text/x-python",
   "name": "python",
   "nbconvert_exporter": "python",
   "pygments_lexer": "ipython3",
   "version": "3.12.1"
  }
 },
 "nbformat": 4,
 "nbformat_minor": 2
}
